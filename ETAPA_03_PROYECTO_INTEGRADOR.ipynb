{
  "nbformat": 4,
  "nbformat_minor": 0,
  "metadata": {
    "colab": {
      "name": "ETAPA 03 PROYECTO INTEGRADOR ",
      "provenance": [],
      "collapsed_sections": []
    },
    "kernelspec": {
      "name": "python3",
      "display_name": "Python 3"
    },
    "language_info": {
      "name": "python"
    }
  },
  "cells": [
    {
      "cell_type": "markdown",
      "metadata": {
        "id": "vb8mUiV8QgBi"
      },
      "source": [
        "###Evidencia 1: Entrega Etapa 3 del Proyecto Integrador\n"
      ]
    },
    {
      "cell_type": "markdown",
      "metadata": {
        "id": "ByliQuS8QgQR"
      },
      "source": [
        "###Evidencia 1: Entrega Etapa 3 del Proyecto Integrador\n",
        "\n",
        "Instituto Tecnológico y de Estudios Superiores de Monterrey\n",
        "\n",
        "Profesional – Tec21\n",
        "\n",
        "Pensamiento computacional para ingeniería (TC1028.52)\n",
        "\n",
        "Maestro: Ing. Germán Dominguez\n",
        "\n",
        "Nombre: Maria Yamile Quiroga Caldera\n",
        "\n",
        "ID: A00832662\n",
        "\n",
        "Fecha: 17/10/2021\n",
        "\n",
        "Link colaboratory: https://colab.research.google.com/drive/19HzttE1kBTmzTWp-v-MA2v5wLz1zczvn?usp=sharing \n",
        "\n",
        "\n",
        "Link github: https://github.com/YAMILEQC/TC1028.52 \n",
        "\n",
        "\n"
      ]
    },
    {
      "cell_type": "markdown",
      "metadata": {
        "id": "N-rFlTdWXzOF"
      },
      "source": [
        "####Instrucciones "
      ]
    },
    {
      "cell_type": "markdown",
      "metadata": {
        "id": "EPi77qXfQgdp"
      },
      "source": [
        "Instrucciones \n",
        "\n",
        "Para esta entrega debes realizar lo siguiente:\n",
        "\n",
        "- Incluir la descripción la problemática a resolver, cómo se planea solucionar y la funcionalidad del programa que dará solución al problema desarrollada en la Entrega 1. Extensión: 400 palabras\n",
        "\n",
        "\n",
        "- Incluir los algoritmos detallados que expliquen el funcionamiento de cada una de las secciones del menú de tu programa desarrollados en la Entrega 2. Requisito: 6 o más algoritmos \n",
        "\n",
        "\n",
        "- Incluir el plan de pruebas de tu programa desarrollado en la Entrega 2. Requisito: 2 o más pruebas por función\n",
        "\n",
        "\n",
        "- Desarrollar las funciones para el manejo de archivos, es necesario crear el archivo de texto con la información de todas las preguntas.\n",
        "\n",
        "\n",
        "**def leer_archivo(nombre):** la función lee toda la información del archivo que tiene el nombre físico recibido en el parámetro de entrada y la retorna la información del mismo como una la lista de preguntas.\n",
        "\n",
        "**def grabar_archivo(nombre, lista):** la función recibe una la lista de todos las preguntas y el nombre del archivo donde se grabará la información, esta función sustituye toda la información del archivo por la nueva información que está en la lista.\n",
        "\n",
        "Las 2 funciones de archivos se deberán llamar dentro de las funciones desarrolladas en la Entrega 2, solamente cuando sea indispensable, en algunos casos al inicio a la función def leer_archivo(nombre) y al final a la función def grabar_archivo(nombre, lista) si dentro de la función se modificó la lista de empleados, en otras funciones solo al inicio deberás llamar a la función def leer_archivo(nombre).\n",
        "\n",
        "Al inicio del programa dentro de la función def main( ) se debe abrir el archivo que se va a utilizar, por lo tanto cuando se mande llamar a las funciones del programa se les enviará como parámetro de entrada el nombre del archivo a utilizar.\n",
        "\n",
        "1. def registrar_pregunta(nombre): Es la misma que en la entrega 2, para esta entrega usa la función def leer_archivo(nombre) que retorna la lista de preguntas y al final de la función debes llamar a def grabar_archivo(nombre, lista) para que grabe la información de todas las preguntas de la lista.\n",
        "\n",
        "2. def actualizar_pregunta(nombre): Es la misma que en la entrega 2, para esta entrega usa la función def leer_archivo(nombre) que retorna la lista de preguntas y al final de la función debes llamar a def grabar_archivo(nombre, lista) para que grabe la información con la pregunta actualizada.\n",
        "\n",
        "3. def estudiar_area( nombre): Es la misma que en la entrega 2, para esta entrega usa la función leer_archivo(nombre) que retorna la lista de preguntas para crear el Quiz.\n",
        "\n",
        "4. def presentar_quiz( nombre): Es la misma que en la entrega 2, para esta entrega usa la función leer_archivo(nombre) que retorna la lista de preguntas para crear el Quiz.\n",
        "\n",
        "5. def reportar_calificaciones( ): Es la misma que en la entrega 2, para esta entrega debe añadir el reporte de calificaciones generado al archivo con la lista de preguntas.\n",
        "\n",
        "6. Salir: Desarrollar la función def salir( ): para que al elegir esta opción del sistema, el programa muestre un mensaje de despedida.\n",
        "\n",
        "\n",
        "- Realiza una reflexión de lo que aprendiste durante en el desarrollo del proyecto, que hiciste bien y que crees que pudiste hacer mejor."
      ]
    },
    {
      "cell_type": "markdown",
      "metadata": {
        "id": "Rx7cS2FAXlV6"
      },
      "source": [
        "### Problematica a resolver y funcionalidad del programa "
      ]
    },
    {
      "cell_type": "markdown",
      "metadata": {
        "id": "gq1C6FOwXjnh"
      },
      "source": [
        "Describir la problemática a resolver, cómo se planea solucionar y la funcionalidad del programa que dará solución al problema.\n",
        "\n",
        "Extensión: 400 palabras.\n",
        "\n",
        "La problemática nos dice que se requiere crear un código para que próximamente esta se pueda volver ya sea una app, una pagina web o en sí un servicio para maestros y alumnos de grado secundaria en donde se ofrezca una forma de repasar las preguntas de reactivos tipo PISA, de manera generalizada o por área. Además de registrar/ reportar calificaciones y actualizar dichos reactivos.\n",
        "\n",
        "Dentro del curso de programación y con los temas vistos en estas siete semanas se han visto cosas tales como expresiones y operaciones aritméticas, tipos de datos existentes, estatuto de asignación, comentarios, -print, -input, convertir los tipos de datos, import y funciones de la librería math, funciones con y sin parámetros, argumentos, variables locales y globales, estatuto pass, funciones con valor de retorno, depuración de programas, valores booleanos, operadores relacionales ( <, <=, >, >=, ==, !=), operadores lógicos -and, or, not, estatuto if, if else, if, elif en bloques de código, función range, range(max_value), range(min_value,max_value), range(start_value, end_value,step), estatuto for con range() creciente y con range() decreciente, conceptos contadores y acumuladores, diseño de un ciclo while, las tulpas y las listas.\n",
        "\n",
        "En este primer entregable las instrucciones dictan que se tienen que determinar todas las funciones que ofrecerá el código, ya que estas son las áreas que conformará dicho menú, tales como: dar las preguntas de alta, reportar calificaciones, actualizar preguntas, presentar pequeños exámenes (quiz), estudiar un área (matemáticas, lectura y ciencias) , el mismo menú y el main. Además de esto, se nos pidió desarrollar 3 de estas funciones las cuales fueron: el menú, en donde se nos pedía mostrar las opciones de este y a su vez que este mismo preguntara que acción quería hacer el usuario de dicho menú, otra función que se nos pidió fue el de registrar las preguntas y que estas se imprimieran, por ultimo se nos pidió que la función main fuera el apartado donde se podían encontrar todas estas funciones para mandarse a llamar.\n",
        "\n",
        "Lo que logré con este código y las instrucciones fue crear una función menú con -print y preguntar la opción a elegir mediante un -input además de pedir que este valor se transformara en un -int para su uso. Con la función main se diseño un ciclo while como los vistos en clase y además dentro de este mismo ciclo while se implementó el uso de -if para que mediante esta “condición” por así decirlo, se determinará con un numero escogido por el usuario como visto previamente en el menú y que este lo llevara a dicha función. Por último, se comenzó a desarrollar la primera opción del menú que era la función de registrar preguntas en donde mediante listas se pide un input por parte del usuario para almacenar estas preguntas y luego mandarlas a imprimir.\n",
        "\n",
        "Total: 464 palabras"
      ]
    },
    {
      "cell_type": "markdown",
      "metadata": {
        "id": "Quonid65YG2m"
      },
      "source": [
        "### Algoritmos"
      ]
    },
    {
      "cell_type": "markdown",
      "metadata": {
        "id": "q9t-uez2YMZt"
      },
      "source": [
        "Descripción Algoritmos (pasos para mis funciones) \n",
        "\n",
        "Menú()\n",
        "1.\tFunción \n",
        "2.\tUsar prints para mostrar las opciones del menú \n",
        "3.\tPreguntar al usuario la opción deseada con un input \n",
        "4.\tRetornar la opción con un return \n",
        "\n",
        "\n",
        "\n",
        "Registrar_pregunta() \n",
        "1.\tDefinir la variable pregunta \n",
        "2.\tVolver la variable global \n",
        "3.\tFunción \n",
        "4.\tUsar un print para dar bienvenida e indicar la opción que el usuario hará \n",
        "5.\tInputs para registrar las preguntas con los datos específicos \n",
        "6.\tCiclo for para ingresar las opciones de respuesta 1 a 1 \n",
        "7.\tCrear una variable/lista que junte todos los datos anteriores \n",
        "8.\t.append \n",
        "\n",
        "\n",
        "\n",
        "Actualizar_pregunta() \n",
        "1. Import librerias pertientes \n",
        "2.\tGlobal de las preguntas \n",
        "3.\tFunción \n",
        "4.\tCiclo for para imprimir todas las preguntas ingressadas \n",
        "5.\tPreguntar id de la pregunta \n",
        "6.\tValidar existencia del id \n",
        "7.\tPreguntar por los datos a cambiar \n",
        "8.\tPreguntar si esta seguro de los cambios \n",
        "9.\tRemplazar los datos por nuevos con index recorriendo posiciones con un for \n",
        "10.\tGuardar los datos en nueva lista o ingresarlos nuevamente a la misma lista \n",
        "\n",
        "\n",
        "\n",
        "Estudiar_área()\n",
        "1. Import librerias pertienentes \n",
        "2.\tGenerar lista vacía para reubicar preguntas de cada área \n",
        "4.\tCiclo for \n",
        "5.\t acum \n",
        "6. Ciclo for \n",
        "7.\tInputs  \n",
        "8. prints \n",
        "\n",
        "\n",
        "\n",
        "Presentar_quiz()\n",
        "1.\tGlobal de las preguntas \n",
        "2.\tHacer mis variables globales \n",
        "3.\tDeclarar mis variables \n",
        "4.\tImport time \n",
        "5.\tFunción \n",
        "6.\tLlamar función timer \n",
        "7.\tFor para mostrar las preguntas\n",
        "8.\tInput para pedir al usuario la opción que el considere correcta \n",
        "9.\tValidar si esta es correcta o incorrecta  con un if \n",
        "10.\tElaborar un contador \n",
        "11.\tImprimir contador \n",
        "\n",
        "\n",
        "Reportar_calificaciones()\n",
        "1.\tImportar librerías \n",
        "2.\tFunción \n",
        "3.\tDefinir variable para promediar con librería \n",
        "4.\tHacer matriz con datos y variables \n",
        "5.\tImprimir matriz \n",
        "\n",
        "Salir()\n",
        "1.\tFunción \n",
        "2.\tPrint msj \n",
        "3.\tBoleano false \n",
        "\n",
        "Main()\n",
        "1.\tFunción \n",
        "2.\tDeclarar variable (= 0)\n",
        "3.\tCiclo while \n",
        "4.\tIfs,elif y else  opciones \n",
        "5.\tLlamar las diferentes funciones en los ifs, elif y else \n",
        "6.\tLlamar main \n",
        "\n",
        "\n",
        "Para este código se usaron diferentes tipos de librerías, conceptos nuevos vistos en clase tales como las listas y el index pero a su vez conceptos ya vistos en semanas pasadas como  el ciclo for, los ifs. Además de esto se nos pidió investigar como agregar un reloj al quiz, para que este indicara un tiempo límite. Como reflexión considero que en esta segunda entrega se le aumento la dificultad al código al integrar diferentes conceptos, aun así es un desafío que tiene que cumplirse ya que por ello se le denomina reto. \n",
        "\n",
        "\n",
        "Total palabras: 433"
      ]
    },
    {
      "cell_type": "markdown",
      "metadata": {
        "id": "5q2G7DvBNclJ"
      },
      "source": [
        "### Reflexión"
      ]
    },
    {
      "cell_type": "markdown",
      "metadata": {
        "id": "t5jHN95sN8fc"
      },
      "source": [
        "\n",
        "Lo que aprendí: Con la realización de este proyecto, considero que aprendí a ser más paciente a la hora de hacer un código, ya que no todo sale a la primera y lleva varios intentos. Además de esto, se me hizo sumamente importante el saber planificar las cosas, es decir, hablando del segundo entregable y el organizar nuestro  código en algoritmos o por pasos me hizo darme cuenta que no estaba tan perdida en lo que iba haciendo.  También me di cuenta que siempre se tiene que ser cuidadoso con la indentación al programar. Pero sobre todo, la importancia de no quedarse simplemente con lo que se ve en clase e investigar, al hacer el segundo entregable se nos pidió poner un cronometro y ahí fue donde saque las ideas de buscar en librerías cómo hacer otras cosas.  Además de esto, el no sólo acomedirse a las herramientas que nos da el profesor, como lo fue el Google Colaboratory, si no también, el intentar usar otros programas, en mi caso pycharm me ayudó en algunas ocasiones a debuggear. \n",
        "\n",
        "Lo que hice bien: Considero que mi primer entregable fue el mejor de todos porque se relacionaba con cosas que aprendimos entre las primeras semanas las cuales fueron temas más sencillos para mí, aún así creo que mejoró bastante mi manera de comprender y entender las cosas, tales como aplicar los if’s, y comprender mejor un poquito los ciclos for. \n",
        "\n",
        "Lo que puedo mejorar:  Mis aspectos a mejorar son muchos, ya que el tiempo que se tuvo para esta clase fue bastante corto, considero que el haber llevado un ritmo un poco más lento me hubiera beneficiado en el sentido de que muchos temas los pude haber visto con más calma ya que de esta manera pude haber comprendido más  cosas. En lo personal, considero que si tuviera que hacer algo otra vez sería mi segundo entregable, ya que debido a la situación en la que estuve me fue bastante difícil el hacerla, ya que no estaba en las mejores facultades físicas, mentales y emocionales para hacerlo. Con esto me refiero a que la vacuna me afecto mucho en lo que fue el aspecto físico, mientras que las otras tareas y el consumo un tanto excesivo de café que tuve para reponer el cansancio de la vacuna afectaron mi estado mental dándome un poco de ansiedad y pues el sentimental esta interconectado con eso, sin embargo considero que di todo mi esfuerzo y eso es lo importante. \n",
        "\n",
        "\n",
        "Total: 415 "
      ]
    },
    {
      "cell_type": "markdown",
      "metadata": {
        "id": "BOPK8xLAYWrJ"
      },
      "source": [
        "### Librerías usadas y adicionales \n"
      ]
    },
    {
      "cell_type": "markdown",
      "metadata": {
        "id": "FouD_Z_vYnxh"
      },
      "source": [
        "https://relopezbriega.github.io/blog/2015/06/27/probabilidad-y-estadistica-con-python/\n",
        "\n",
        "https://pythonspot.com/array-find/\n",
        "\n",
        "https://www.it-swarm-es.com/es/python/crear-un-temporizador-en-python/1040486\n",
        "\n",
        "https://relopezbriega.github.io/blog/2015/06/27/probabilidad-y-estadistica-con-python/\n",
        "\n",
        "https://python-para-impacientes.blogspot.com/2016/10/calculo-estadistico.html\n",
        "\n",
        "https://entrenamiento-python-basico.readthedocs.io/es/latest/leccion3/tipo_listas.html"
      ]
    },
    {
      "cell_type": "markdown",
      "metadata": {
        "id": "YZN9QaF8YrTY"
      },
      "source": [
        "### Pruebas de las funciones"
      ]
    },
    {
      "cell_type": "code",
      "metadata": {
        "id": "7uBTJtC-Yzy-",
        "colab": {
          "base_uri": "https://localhost:8080/"
        },
        "outputId": "edf7745c-2d86-4a3e-a013-d473b565c190"
      },
      "source": [
        "menu()"
      ],
      "execution_count": null,
      "outputs": [
        {
          "name": "stdout",
          "output_type": "stream",
          "text": [
            "Menu:\n",
            "  1. Alta de preguntas de prueba PISA (lectura, matemáticas, ciencias)\n",
            "\n",
            "  2. Actualizar preguntas de la prueba PISA (lectura, matemáticas, ciencias)\n",
            "\n",
            "  3. Estudiar preguntas de cierta área (lectura, matemáticas, ciencias)\n",
            "\n",
            "  4. Presentar un quiz (lectura, matemáticas, ciencias)\n",
            "\n",
            "  5. Reporte de calificaciones \n",
            "\n",
            "  6. Salir \n",
            "Ingrese un número del menu: 1\n"
          ]
        },
        {
          "output_type": "execute_result",
          "data": {
            "text/plain": [
              "1"
            ]
          },
          "metadata": {},
          "execution_count": 29
        }
      ]
    },
    {
      "cell_type": "code",
      "metadata": {
        "id": "MypKWUUHYzZa",
        "colab": {
          "base_uri": "https://localhost:8080/"
        },
        "outputId": "510fe263-c2a6-44de-a4c5-e8998e524829"
      },
      "source": [
        "registrar_pregunta()"
      ],
      "execution_count": null,
      "outputs": [
        {
          "name": "stdout",
          "output_type": "stream",
          "text": [
            "Bienvenido a la opción para registrar preguntas, por favor sigue las instrucciones\n",
            "Ingresa el ID de la pregunta: 2003\n",
            "Ingresa el enfoque de la pregunta: Lectura, Matemáticas, Ciencias: Lectura\n",
            "Ingresa el texto de la pregunta: En qué siglo nació Miguel de Cervantes\n",
            "Ingresa la respuesta 1: Siglo XVII\n",
            "Ingresa la respuesta 2: Siglo XVI\n",
            "Ingresa la respuesta 3: Siglo XIV\n",
            "Ingresa la respuesta 4: Siglo XV\n",
            "Ingresa la respuesta correcta:Siglo XVI\n"
          ]
        }
      ]
    },
    {
      "cell_type": "code",
      "metadata": {
        "id": "6e7EkuceLCsX",
        "colab": {
          "base_uri": "https://localhost:8080/"
        },
        "outputId": "222a6cb2-ef42-4d10-ea1d-87399829d837"
      },
      "source": [
        "registrar_pregunta()"
      ],
      "execution_count": null,
      "outputs": [
        {
          "name": "stdout",
          "output_type": "stream",
          "text": [
            "Bienvenido a la opción para registrar preguntas, por favor sigue las instrucciones\n",
            "Ingresa el ID de la pregunta: 2004\n",
            "Ingresa el enfoque de la pregunta: Lectura, Matemáticas, Ciencias: Ciencias\n",
            "Ingresa el texto de la pregunta: Qué parte no pertenece a la flor: cáliz, estambre, ovario, vasos liberianos.\n",
            "Ingresa la respuesta 1: Cáliz\n",
            "Ingresa la respuesta 2: Estambre\n",
            "Ingresa la respuesta 3: Ovario\n",
            "Ingresa la respuesta 4: Vasos liberianos\n",
            "Ingresa la respuesta correcta:Vasos liberianos\n"
          ]
        }
      ]
    },
    {
      "cell_type": "code",
      "metadata": {
        "id": "ff_LxOSrYyXj",
        "colab": {
          "base_uri": "https://localhost:8080/"
        },
        "outputId": "bfb89e79-2080-48ee-8a13-8179ad2319db"
      },
      "source": [
        "actualizar_pregunta()"
      ],
      "execution_count": null,
      "outputs": [
        {
          "name": "stdout",
          "output_type": "stream",
          "text": [
            "Ingresa el ID de la pregunta que desee cambiar: 2003\n"
          ]
        }
      ]
    },
    {
      "cell_type": "code",
      "metadata": {
        "id": "ykgeQeFRLBDN",
        "colab": {
          "base_uri": "https://localhost:8080/"
        },
        "outputId": "d35f22ee-2351-4a7d-a15d-c1010814f89a"
      },
      "source": [
        "actualizar_pregunta()"
      ],
      "execution_count": null,
      "outputs": [
        {
          "name": "stdout",
          "output_type": "stream",
          "text": [
            "Ingresa el ID de la pregunta que desee cambiar: 2004\n",
            "No existe la pregunta, intenta con otro ID\n",
            "Ingresa el ID de la pregunta que desee cambiar: 2004\n",
            "No existe la pregunta, intenta con otro ID\n",
            "Ingresa el ID de la pregunta que desee cambiar: 2003\n"
          ]
        }
      ]
    },
    {
      "cell_type": "code",
      "metadata": {
        "id": "nP5yZkGbKyHe",
        "colab": {
          "base_uri": "https://localhost:8080/"
        },
        "outputId": "aec95d57-51b6-4047-fd2f-5f4bcf635168"
      },
      "source": [
        "estudiar_area()"
      ],
      "execution_count": null,
      "outputs": [
        {
          "output_type": "stream",
          "name": "stdout",
          "text": [
            "Ingresa la cantidad de preguntas que deseas estudiar2\n",
            "Ingrese el area a estudiar (Lectura, Matemáticas,Ciencias )lectura\n",
            "No se reconoce esta area\n"
          ]
        }
      ]
    },
    {
      "cell_type": "code",
      "metadata": {
        "id": "Pt0rckpTLB1M",
        "colab": {
          "base_uri": "https://localhost:8080/"
        },
        "outputId": "477cc73e-2a28-4ac2-a26b-5d27001c9d79"
      },
      "source": [
        "estudiar_area()"
      ],
      "execution_count": null,
      "outputs": [
        {
          "output_type": "stream",
          "name": "stdout",
          "text": [
            "Ingresa la cantidad de preguntas que deseas estudiar1\n",
            "Ingrese el area a estudiar (Lectura, Matemáticas,Ciencias )Ciencias\n",
            "['2004', 'Ciencias', 'Qué parte no pertenece a la flor: cáliz, estambre, ovario, vasos liberianos.', 'Cáliz', 'Estambre', 'Ovario', 'Vasos liberianos', 'Vasos liberianos']\n"
          ]
        }
      ]
    },
    {
      "cell_type": "code",
      "metadata": {
        "id": "51i_Yl5eLIop",
        "colab": {
          "base_uri": "https://localhost:8080/"
        },
        "outputId": "71524edf-900b-4805-87e5-3b84103db4be"
      },
      "source": [
        "presentar_quiz()"
      ],
      "execution_count": null,
      "outputs": [
        {
          "output_type": "stream",
          "name": "stdout",
          "text": [
            "Bienvenido a la opción presentar un quiz, aquí presentarás un quiz de 10 preguntas aleatorias de las diferentes areas, en dónde se te brindará 20 minutos para hacerlo, ¡suerte!\n",
            "ID de la pregunta: 2003 \n",
            "Enfoque de la pregunta: Lectura \n",
            "Pregunta: En qué siglo nació Miguel de Cervantes\n",
            "a)Siglo XVII     b)Siglo XVI      c)Siglo XIV      d)Siglo XV        \n",
            "\n",
            "Seleccione la opcion que le parezca correcta:  b\n",
            "Lo sentimos, su respuesta es incorrecta procure respasar más\n",
            "ID de la pregunta: 2004 \n",
            "Enfoque de la pregunta: Ciencias \n",
            "Pregunta: Qué parte no pertenece a la flor: cáliz, estambre, ovario, vasos liberianos.\n",
            "a)Cáliz          b)Estambre       c)Ovario         d)Vasos liberianos \n",
            "\n",
            "Seleccione la opcion que le parezca correcta:  Vasos liberianos\n",
            "¡Enhorabuena, su respuesta es correcta!\n",
            "10\n",
            "10\n"
          ]
        }
      ]
    },
    {
      "cell_type": "code",
      "metadata": {
        "id": "2WA01-czLNZ7",
        "colab": {
          "base_uri": "https://localhost:8080/"
        },
        "outputId": "5ac0cfdd-9398-4f28-c539-2a3059970086"
      },
      "source": [
        "presentar_quiz()"
      ],
      "execution_count": null,
      "outputs": [
        {
          "output_type": "stream",
          "name": "stdout",
          "text": [
            "Bienvenido a la opción presentar un quiz, aquí presentarás un quiz de 10 preguntas aleatorias de las diferentes areas, en dónde se te brindará 20 minutos para hacerlo, ¡suerte!\n",
            "ID de la pregunta: 2003 \n",
            "Enfoque de la pregunta: Lectura \n",
            "Pregunta: En qué siglo nació Miguel de Cervantes\n",
            "a)Siglo XVII     b)Siglo XVI      c)Siglo XIV      d)Siglo XV        \n",
            "\n",
            "Seleccione la opcion que le parezca correcta:  Siglo XVI\n",
            "¡Enhorabuena, su respuesta es correcta!\n",
            "ID de la pregunta: 2004 \n",
            "Enfoque de la pregunta: Ciencias \n",
            "Pregunta: Qué parte no pertenece a la flor: cáliz, estambre, ovario, vasos liberianos.\n",
            "a)Cáliz          b)Estambre       c)Ovario         d)Vasos liberianos \n",
            "\n",
            "Seleccione la opcion que le parezca correcta:  Vasos liberianos \n",
            "Lo sentimos, su respuesta es incorrecta procure respasar más\n",
            "10\n",
            "10\n"
          ]
        }
      ]
    },
    {
      "cell_type": "code",
      "metadata": {
        "id": "hGODOh9NLOXS",
        "colab": {
          "base_uri": "https://localhost:8080/"
        },
        "outputId": "506096d7-de51-4708-b55f-8bdebac656d8"
      },
      "source": [
        "reportar_calificaciones()"
      ],
      "execution_count": null,
      "outputs": [
        {
          "output_type": "stream",
          "name": "stdout",
          "text": [
            "[['Total usuarios:', '--'], ['Promedio calificaciones', 70], ['Preguntas correctas', 10], ['Preguntas incorrectas', 10]]\n"
          ]
        }
      ]
    },
    {
      "cell_type": "code",
      "metadata": {
        "id": "mTx9ECaULRW9",
        "colab": {
          "base_uri": "https://localhost:8080/"
        },
        "outputId": "fadf43b1-97a4-409b-cf5d-156a52396bdb"
      },
      "source": [
        "reportar_calificaciones()"
      ],
      "execution_count": null,
      "outputs": [
        {
          "output_type": "stream",
          "name": "stdout",
          "text": [
            "[['Total usuarios:', '--'], ['Promedio calificaciones', 70], ['Preguntas correctas', 10], ['Preguntas incorrectas', 10]]\n"
          ]
        }
      ]
    },
    {
      "cell_type": "code",
      "metadata": {
        "id": "mIPO9ekQLT1P",
        "colab": {
          "base_uri": "https://localhost:8080/"
        },
        "outputId": "40d90451-e2c1-4ffc-914b-7c5974f76331"
      },
      "source": [
        "salir()"
      ],
      "execution_count": null,
      "outputs": [
        {
          "output_type": "stream",
          "name": "stdout",
          "text": [
            "Agradecemos su preferencia al usar nuestro sistema, esperamos tenga un lindo día\n"
          ]
        }
      ]
    },
    {
      "cell_type": "code",
      "metadata": {
        "id": "cu8jleieLXz7",
        "colab": {
          "base_uri": "https://localhost:8080/"
        },
        "outputId": "464f8d9a-fbd7-41b6-8cfe-3b04a59ad9ea"
      },
      "source": [
        "main()"
      ],
      "execution_count": null,
      "outputs": [
        {
          "output_type": "stream",
          "name": "stdout",
          "text": [
            "Menu:\n",
            "  1. Alta de preguntas de prueba PISA (lectura, matemáticas, ciencias)\n",
            "\n",
            "  2. Actualizar preguntas de la prueba PISA (lectura, matemáticas, ciencias)\n",
            "\n",
            "  3. Estudiar preguntas de cierta área (lectura, matemáticas, ciencias)\n",
            "\n",
            "  4. Presentar un quiz (lectura, matemáticas, ciencias)\n",
            "\n",
            "  5. Reporte de calificaciones \n",
            "\n",
            "  6. Salir \n",
            "Ingrese un número del menu: 1\n",
            "Bienvenido a la opción para registrar preguntas, por favor sigue las instrucciones\n",
            "Ingresa el ID de la pregunta: 2005\n",
            "Ingresa el enfoque de la pregunta: Lectura, Matemáticas, Ciencias: Lectura \n",
            "Ingresa el texto de la pregunta: Filósofo griego, autor de 'La República'\n",
            "Ingresa la respuesta 1: Sócrates \n",
            "Ingresa la respuesta 2: Democrates\n",
            "Ingresa la respuesta 3: Aristóteles \n",
            "Ingresa la respuesta 4: Platón  \n",
            "Ingresa la respuesta correcta:Platón  \n",
            "Menu:\n",
            "  1. Alta de preguntas de prueba PISA (lectura, matemáticas, ciencias)\n",
            "\n",
            "  2. Actualizar preguntas de la prueba PISA (lectura, matemáticas, ciencias)\n",
            "\n",
            "  3. Estudiar preguntas de cierta área (lectura, matemáticas, ciencias)\n",
            "\n",
            "  4. Presentar un quiz (lectura, matemáticas, ciencias)\n",
            "\n",
            "  5. Reporte de calificaciones \n",
            "\n",
            "  6. Salir \n",
            "Ingrese un número del menu: 6\n",
            "Agradecemos su preferencia al usar nuestro sistema, esperamos tenga un lindo día\n"
          ]
        }
      ]
    },
    {
      "cell_type": "code",
      "metadata": {
        "id": "IugltwobLXns",
        "colab": {
          "base_uri": "https://localhost:8080/"
        },
        "outputId": "a6c34f07-9615-4c8e-9d39-fabb13b0cfa3"
      },
      "source": [
        "main()"
      ],
      "execution_count": null,
      "outputs": [
        {
          "output_type": "stream",
          "name": "stdout",
          "text": [
            "Menu:\n",
            "  1. Alta de preguntas de prueba PISA (lectura, matemáticas, ciencias)\n",
            "\n",
            "  2. Actualizar preguntas de la prueba PISA (lectura, matemáticas, ciencias)\n",
            "\n",
            "  3. Estudiar preguntas de cierta área (lectura, matemáticas, ciencias)\n",
            "\n",
            "  4. Presentar un quiz (lectura, matemáticas, ciencias)\n",
            "\n",
            "  5. Reporte de calificaciones \n",
            "\n",
            "  6. Salir \n",
            "Ingrese un número del menu: 4\n",
            "Bienvenido a la opción presentar un quiz, aquí presentarás un quiz de 10 preguntas aleatorias de las diferentes areas, en dónde se te brindará 20 minutos para hacerlo, ¡suerte!\n",
            "ID de la pregunta: 2005 \n",
            "Enfoque de la pregunta: Lectura  \n",
            "Pregunta: Filósofo griego, autor de 'La República'\n",
            "a)Sócrates       b)Democrates     c)Aristóteles    d)Platón          \n",
            "\n",
            "Seleccione la opcion que le parezca correcta:  Platón\n",
            "Lo sentimos, su respuesta es incorrecta procure respasar más\n",
            "0\n",
            "10\n",
            "Menu:\n",
            "  1. Alta de preguntas de prueba PISA (lectura, matemáticas, ciencias)\n",
            "\n",
            "  2. Actualizar preguntas de la prueba PISA (lectura, matemáticas, ciencias)\n",
            "\n",
            "  3. Estudiar preguntas de cierta área (lectura, matemáticas, ciencias)\n",
            "\n",
            "  4. Presentar un quiz (lectura, matemáticas, ciencias)\n",
            "\n",
            "  5. Reporte de calificaciones \n",
            "\n",
            "  6. Salir \n",
            "Ingrese un número del menu: 6\n",
            "Agradecemos su preferencia al usar nuestro sistema, esperamos tenga un lindo día\n"
          ]
        }
      ]
    },
    {
      "cell_type": "markdown",
      "metadata": {
        "id": "4cVg-qTAZv_r"
      },
      "source": [
        "### Timers "
      ]
    },
    {
      "cell_type": "code",
      "metadata": {
        "colab": {
          "base_uri": "https://localhost:8080/"
        },
        "id": "lVKg_-eWZyM4",
        "outputId": "88117142-f4da-41c7-975d-aa191c32c025"
      },
      "source": [
        "from threading import Timer\n",
        "\n",
        "def timeout():\n",
        "    print(\"Game over\")\n",
        "\n",
        "# duration is in seconds\n",
        "t = Timer(20 * 60, timeout)\n",
        "t.start()\n",
        "\n",
        "# wait for time completion\n",
        "t.join()"
      ],
      "execution_count": null,
      "outputs": [
        {
          "output_type": "stream",
          "name": "stdout",
          "text": [
            "Game over\n"
          ]
        }
      ]
    },
    {
      "cell_type": "code",
      "metadata": {
        "id": "Ge6Ysz-7anPZ"
      },
      "source": [
        "import os\n",
        "import time\n",
        "\n",
        "def timer():\n",
        "  for minuto in range(20):\n",
        "      for segundos in range(60): \n",
        "        os.system(' cls ')\n",
        "      time.sleep(1)\n",
        "  tempo = [print(f'{minuto}: {segundos}')] #imprime al finalizar tiempo (20)"
      ],
      "execution_count": null,
      "outputs": []
    },
    {
      "cell_type": "markdown",
      "metadata": {
        "id": "2HBsUxEZYr-O"
      },
      "source": [
        "### Menu"
      ]
    },
    {
      "cell_type": "code",
      "metadata": {
        "id": "um0DFzBYZZYx"
      },
      "source": [
        "def menu():\n",
        "\n",
        "  print(\"Menu:\")\n",
        "\n",
        "  print('''  1. Alta de preguntas de prueba PISA (lectura, matemáticas, ciencias)\n",
        "\n",
        "  2. Actualizar preguntas de la prueba PISA (lectura, matemáticas, ciencias)\n",
        "\n",
        "  3. Estudiar preguntas de cierta área (lectura, matemáticas, ciencias)\n",
        "\n",
        "  4. Presentar un quiz (lectura, matemáticas, ciencias)\n",
        "\n",
        "  5. Reporte de calificaciones \n",
        "\n",
        "  6. Salir ''')\n",
        "\n",
        "  opcion = int((input(\"Ingrese un número del menu: \")))\n",
        "  \n",
        "  return opcion"
      ],
      "execution_count": null,
      "outputs": []
    },
    {
      "cell_type": "markdown",
      "metadata": {
        "id": "w2b0IP6YY7Q2"
      },
      "source": [
        "### Registrar pregunta"
      ]
    },
    {
      "cell_type": "code",
      "metadata": {
        "id": "biPe9pFXZLKh"
      },
      "source": [
        "preguntas = [['1', 1, 'Matemáticas', 'Texto de la pregunta', 'R1', 'R2', 'R3', 'R4', 'RC' ],\n",
        "             ['2', 2,  'Lectura', 'Texto de la pregunta', 'R1', 'R2', 'R3', 'R4', 'RC' ],\n",
        "             ['3', 3,  'Ciencias', 'Texto de la pregunta', 'R1', 'R2', 'R3', 'R4', 'RC' ]]\n",
        "\n",
        "def registrar_pregunta():\n",
        "\n",
        "  global preguntas\n",
        "  \n",
        "  print(\"Bienvenido a la opción para registrar preguntas, por favor sigue las instrucciones\")\n",
        "  id_pregunta = input(\"Ingresa el ID de la pregunta: \")\n",
        "  enfoque = input(\"Ingresa el enfoque de la pregunta: Lectura, Matemáticas, Ciencias: \")\n",
        "  pregunta = input(\"Ingresa el texto de la pregunta: \")\n",
        "  respuestas = \"\"\n",
        "\n",
        "  for num in range(4):\n",
        "    respuesta = input(\"Ingresa la respuesta \" + str(num + 1) + \": \")\n",
        "\n",
        "    if num == 3:\n",
        "      respuestas = respuestas + respuesta # string de respuesta 4, no lleva coma\n",
        "    else:\n",
        "      respuestas = respuestas + respuesta + \",\" # string de respuestas 1, 2, 3\n",
        " \n",
        "  respuestas = respuestas.split(\",\") # hacer una lista desde un string, cada elemento es separado por coma\n",
        "  \n",
        "  respuesta1, respuesta2, respuesta3, respuesta4 = respuestas # asignación múltiple de variables de una lista (elemento por elemento)\n",
        "\n",
        "  correcta = input(\"Ingresa la respuesta correcta:\")\n",
        "\n",
        "  pregunta = [id_pregunta, enfoque, pregunta, respuesta1, respuesta2, respuesta3, respuesta4, correcta]\n",
        "  \n",
        "  preguntas.append(pregunta)\n"
      ],
      "execution_count": null,
      "outputs": []
    },
    {
      "cell_type": "markdown",
      "metadata": {
        "id": "U3A0ifZkY-C7"
      },
      "source": [
        "### Actualizar pregunta "
      ]
    },
    {
      "cell_type": "code",
      "metadata": {
        "id": "Kr7vm8jAZMD2"
      },
      "source": [
        "def actualizar_pregunta():\n",
        "\n",
        "\n",
        "  id_cambio = input(\"Ingresa el ID de la pregunta que desee cambiar: \")\n",
        " \n",
        "  for num in range(len(preguntas)):\n",
        "      \n",
        "      pregunta = preguntas[num]\n",
        "\n",
        "      id_pregunta = pregunta[0]\n",
        "      \n",
        "      if id_cambio == id_pregunta:\n",
        "        exists = True\n",
        "        no_pregunta = num\n",
        "        break\n",
        "      else:\n",
        "        exists = False\n",
        "    \n",
        "      if exists == True:\n",
        "        print(\"Si encontró la pregunta\")\n",
        "          \n",
        "        id, enfoque, texto_pregunta, respuesta1, respuesta2, respuesta3, respuesta4, correcta = preguntas[no_pregunta]\n",
        "\n",
        "        if enfoque == 1:\n",
        "          enfoque = \"Lectura\"\n",
        "        elif enfoque == 2:\n",
        "          enfoque = \"Matemáticas\"\n",
        "        else:\n",
        "          enfoque = \"Lectura\"\n",
        "      \n",
        "        print(f'{\"ID: \"}{id:<5}{\"Enfoque: \"}{enfoque}\\n{texto_pregunta}\\n{respuesta1:<15}{respuesta2:<15}{respuesta3:<15}{respuesta4}\\n{\"Respuesta correcta: \"}{correcta}')\n",
        "      \n",
        "        confirmacion = input(\"Si deseas cambiar la pregunta escribe 'si' \")\n",
        "\n",
        "        if confirmacion.lower() == \"si\":\n",
        "        \n",
        "          pregunta = []\n",
        "          dato = 0\n",
        "          while dato < len(datos_preguntas):\n",
        "            \n",
        "            dato_nuevo = input(datos_preguntas[dato])\n",
        "            \n",
        "            if dato == 1:\n",
        "              if int(dato_nuevo) >= 1 and int(dato_nuevo) <= 3:\n",
        "                pregunta.append(int(dato_nuevo))\n",
        "              else: \n",
        "                print(\"Ingresa un número correcto\")\n",
        "                dato -= 1\n",
        "            else:\n",
        "              pregunta.append(dato_nuevo)\n",
        "            dato += 1\n",
        "          \n",
        "          id, enfoque, texto_pregunta, respuesta1, respuesta2, respuesta3, respuesta4, correcta = pregunta\n",
        "          \n",
        "          print(f'{\"Los datos de la pregunta a actualizar son:\"}\\n{\"ID: \"}{id:<5}{\"Enfoque: \"}{enfoque}\\n{texto_pregunta}\\n{respuesta1:<15}{respuesta2:<15}{respuesta3:<15}{respuesta4}\\n{\"Respuesta correcta: \"}{correcta}')\n",
        "          \n",
        "          confirmacion = input(\"Si deseas cambiar la pregunta escribe 'si' \")\n",
        "\n",
        "          if confirmacion.lower() == \"si\":\n",
        "            preguntas[no_pregunta] = pregunta\n",
        "      \n",
        "      else:\n",
        "        print(\"No existe la pregunta, intenta con otro ID\")\n",
        "        actualizar_pregunta()"
      ],
      "execution_count": null,
      "outputs": []
    },
    {
      "cell_type": "markdown",
      "metadata": {
        "id": "mGB9Ef-SZD4p"
      },
      "source": [
        "### Estudiar area"
      ]
    },
    {
      "cell_type": "code",
      "metadata": {
        "id": "8FpmUIlzZM85"
      },
      "source": [
        "  global pregunta\n",
        "  preguntas_lectura = []\n",
        "  preguntas_matematicas = []\n",
        "  preguntas_ciencias = []\n",
        "\n",
        "\n",
        "def estudiar_area():\n",
        "\n",
        "    num_preg = int(input(\"Ingresa la cantidad de preguntas que deseas estudiar\"))\n",
        "    area = input(\"Ingrese el area a estudiar (Lectura, Matemáticas,Ciencias )\")\n",
        "\n",
        "\n",
        "    if area == \"Lectura\":\n",
        "      for pregunta in preguntas:\n",
        "        if pregunta[1] == \"Lectura\":\n",
        "          preguntas_lectura.append(pregunta)\n",
        "      for num in range(num_preg):\n",
        "          print(preguntas_lectura[num])\n",
        "\n",
        "\n",
        "    elif area == \"Matemáticas\":\n",
        "      for pregunta in preguntas:\n",
        "        if pregunta[1] == \"Matemáticas\":\n",
        "          preguntas_matematicas.append(pregunta)\n",
        "      for num in range(num_preg):\n",
        "          print(preguntas_matematicas[num])\n",
        "\n",
        "\n",
        "    elif area == \"Ciencias\":\n",
        "      for pregunta in preguntas:\n",
        "        if pregunta[1] == \"Ciencias\":\n",
        "          preguntas_ciencias.append(pregunta)\n",
        "      for num in range(num_preg):\n",
        "          print(preguntas_ciencias[num])\n",
        "\n",
        "\n",
        "    else:\n",
        "      print(\"No se reconoce esta area\")"
      ],
      "execution_count": null,
      "outputs": []
    },
    {
      "cell_type": "markdown",
      "metadata": {
        "id": "_-udBQ47ZJRp"
      },
      "source": [
        "### Presentar quiz"
      ]
    },
    {
      "cell_type": "code",
      "metadata": {
        "id": "RIhJEGDNZXTY"
      },
      "source": [
        "def presentar_quiz(): \n",
        "  global respuesta_correcta \n",
        "  global respuesta_incorrecta \n",
        "  global calificaciones\n",
        "\n",
        "  respuesta_correcta = 0\n",
        "  respuesta_incorrecta = 0\n",
        "  calificaciones = [90, 50, 60, 70, 80]\n",
        "\n",
        "\n",
        "  print(\"Bienvenido a la opción presentar un quiz, aquí presentarás un quiz de 10 preguntas aleatorias de las diferentes areas, en dónde se te brindará 20 minutos para hacerlo, ¡suerte!\")\n",
        "  #dtimer()\n",
        "  for pregunta in preguntas:\n",
        "    \n",
        "    id_pregunta, enfoque, pregunta, respuesta1, respuesta2, respuesta3, respuesta4, correcta = pregunta # esto (pregunta) es una lista, hacemos asignación múltiple\n",
        "\n",
        "    print(f\"ID de la pregunta: {id_pregunta} \\nEnfoque de la pregunta: {enfoque} \\nPregunta: {pregunta}\")\n",
        "    print(f\"a){respuesta1:<15}b){respuesta2:<15}c){respuesta3:<15}d){respuesta4:<15} \\n\")\n",
        " \n",
        "\n",
        "\n",
        "    respuesta = input(\"Seleccione la opcion que le parezca correcta:  \")\n",
        "\n",
        "\n",
        "\n",
        "    if respuesta == correcta: \n",
        "       respuesta_correcta = respuesta_correcta + 10 \n",
        "       print(\"¡Enhorabuena, su respuesta es correcta!\")\n",
        "\n",
        "\n",
        "\n",
        "    elif respuesta != correcta: \n",
        "       respuesta_incorrecta = respuesta_incorrecta + 10 \n",
        "       print(\"Lo sentimos, su respuesta es incorrecta procure respasar más\")\n",
        "\n",
        "  print(respuesta_correcta)\n",
        "\n",
        "  print(respuesta_incorrecta) "
      ],
      "execution_count": null,
      "outputs": []
    },
    {
      "cell_type": "markdown",
      "metadata": {
        "id": "GrIJLBf7c4Gq"
      },
      "source": [
        "### Reportar Calificaciones "
      ]
    },
    {
      "cell_type": "code",
      "metadata": {
        "id": "cw9gGnxwdf9E"
      },
      "source": [
        "import numpy as np\n",
        "from scipy import stats # importando scipy.stats\n",
        "import pandas as pd # importando pandas\n",
        "import statistics\n",
        "\n",
        "\n",
        "def reportar_calificaciones(): \n",
        "  promed = statistics.mean(calificaciones)\n",
        "\n",
        "  report_cali = [['Total usuarios:', '--'],\n",
        "                ['Promedio calificaciones', promed ],\n",
        "                ['Preguntas correctas', respuesta_correcta ],      \n",
        "                ['Preguntas incorrectas', respuesta_incorrecta ]]\n",
        "\n",
        "\n",
        "  print(report_cali)\n"
      ],
      "execution_count": null,
      "outputs": []
    },
    {
      "cell_type": "markdown",
      "metadata": {
        "id": "vmj4HkTuaIqB"
      },
      "source": [
        "### Leer Archivo"
      ]
    },
    {
      "cell_type": "code",
      "metadata": {
        "id": "KpDAcPD97ElC"
      },
      "source": [
        "preguntas = [['1', 1, 'Matemáticas', 'Texto de la pregunta', 'R1', 'R2', 'R3', 'R4', 'RC' ],\n",
        "             ['2', 2,  'Lectura', 'Texto de la pregunta', 'R1', 'R2', 'R3', 'R4', 'RC' ],\n",
        "             ['3', 3,  'Ciencias', 'Texto de la pregunta', 'R1', 'R2', 'R3', 'R4', 'RC' ]]\n",
        "\n",
        "\n",
        "nombre_archivo = \"preguntas.txt\"\n",
        "\n",
        "preguntas = []\n",
        "\n",
        "def leer_archivo(nombre): \n",
        "\n",
        "  preguntas = []\n",
        "\n",
        "  with open(nombre, \"r\") as archivo:\n",
        "\n",
        "    contenido = archivo.readlines()\n",
        "\n",
        "    for elemento in contenido: \n",
        "      linea = elemento.split(\",\")\n",
        "      liena[7] = linea[7][:-1]\n",
        "      preguntas.append(linea)\n",
        "\n",
        "    return preguntas \n",
        "\n",
        "preguntas = leer_archivo(nombre_archivo)\n",
        "\n",
        "def guardar_archivo(nombre):\n",
        "\n",
        "  with open(nombre , \"w\") as arhivo: \n",
        "\n",
        "    for pregunta in preguntas: \n",
        "      pregunta[1] = str(pregunta[1])\n",
        "\n",
        "      texto = \",\".join (pregunta)\n",
        "      archivo.write(texto + \"prueba\"+\"\\n\")\n",
        "\n",
        "guardar_archivo(nombre_archivo)\n",
        "\n",
        "\n"
      ],
      "execution_count": null,
      "outputs": []
    },
    {
      "cell_type": "markdown",
      "metadata": {
        "id": "hfId3aK8ZXoe"
      },
      "source": [
        "### Salir"
      ]
    },
    {
      "cell_type": "code",
      "metadata": {
        "id": "DVXQDwM5ZgwI"
      },
      "source": [
        "def salir():\n",
        "  print(\"Agradecemos su preferencia al usar nuestro sistema, esperamos tenga un lindo día\")\n",
        "  sigue = False\n"
      ],
      "execution_count": null,
      "outputs": []
    },
    {
      "cell_type": "markdown",
      "metadata": {
        "id": "QbfdP9-yZhJ5"
      },
      "source": [
        "### Main "
      ]
    },
    {
      "cell_type": "code",
      "metadata": {
        "id": "09BafQu_Zk3t"
      },
      "source": [
        "def main(): \n",
        "\n",
        "  opcion = 0\n",
        "\n",
        "  while opcion != 6:\n",
        "    opcion = menu()\n",
        "\n",
        "\n",
        "    if opcion == 1: \n",
        "     registrar_pregunta()\n",
        "    \n",
        "    elif opcion == 2: \n",
        "      actualizar_pregunta()\n",
        "    \n",
        "    elif opcion == 3: \n",
        "      estudiar_area()\n",
        "\n",
        "    elif opcion == 4: \n",
        "      presentar_quiz()\n",
        "\n",
        "    elif opcion == 5: \n",
        "      reportar_calificaciones()\n",
        "    \n",
        "    elif opcion == 6:\n",
        "      salir()\n",
        "\n",
        "    \n",
        "    else: \n",
        "      print(\"¡ERROR!, Favor de ingresar una opcion valida\")\n",
        "      continue\n",
        "\n"
      ],
      "execution_count": null,
      "outputs": []
    }
  ]
}